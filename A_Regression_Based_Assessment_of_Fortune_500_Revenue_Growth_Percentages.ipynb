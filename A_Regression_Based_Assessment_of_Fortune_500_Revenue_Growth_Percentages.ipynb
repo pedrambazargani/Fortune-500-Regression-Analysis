{
  "cells": [
    {
      "cell_type": "markdown",
      "source": [
        "#**A Regression-Based Assessment of Revenue Growth Percentages**\n",
        "\n",
        "---\n",
        "\n",
        "By: *Pedram* *Bazargani*"
      ],
      "metadata": {
        "id": "2cjsa7ff7st1"
      }
    },
    {
      "cell_type": "markdown",
      "source": [
        "**Data Description:** This data consists of 7 columns and 100 rows, listing the top 100 American companies by Revenue (USD), according to the 2023 Fortune 500 list published by Fortune Magazine. The list was scraped off Wikipedia and has a usability score of 10.00 on Kaggle. The data was provided in CSV format and was prepped and cleaned for via the Alteryx Designer Platform. Tools utilized include the Data Cleansing, Select, and Formula tools. The data was then outputed back into csv file format and loaded to this notebook on Google Colab.\n",
        "\n",
        "**Source:** https://www.kaggle.com/datasets/claymaker/us-largest-companies\n",
        "\n",
        "**Motivations and Findings:** During my undergrad courses in econometrics I learned a lot about building and interpreting regressions. To showcase my obtained technical accumen I searched Kaggle for some fun data I could work with and shortly found this data on 2023 Fortune 500 Companies published by Fortune.\n",
        "\n",
        "The column I found most interesting was the data on Revenue Growth Percentages. Although I recognize that revenue growth is determined primarily by market conditions, investor sentiments, and numerous finacial metrics, I wanted to see to what extent do the number of employees a company have impact its revenue growth percentage. I further expanded my research to include the Industry and Location columns and also decided to run a few fun statistics regarding the data at the end of this notebook.\n",
        "\n",
        "My regressions demonstrated that the number of employees have minimal impact on revenue growth percentage. Even though adding categorical variables 'Industry' and 'Headquarters (as State)' to the regression via one-hot encoding did result in a larger goodness of fit indicating possible correlation, ultimately these findings may possibly be inconclusive due to issues of multicollinearity.\n"
      ],
      "metadata": {
        "id": "LleRVaMqkolZ"
      }
    },
    {
      "cell_type": "code",
      "source": [
        "#Importing Packages; Loading Data; Creating a DataFrame\n",
        "\n",
        "import pandas as pd\n",
        "import numpy as np\n",
        "import statsmodels.api as sm\n",
        "import matplotlib.pyplot as plt\n",
        "\n",
        "data = pd.read_csv('/content/Fortune500CleanedData.csv')\n",
        "df = pd.DataFrame(data)\n",
        "print(df)\n"
      ],
      "metadata": {
        "colab": {
          "base_uri": "https://localhost:8080/"
        },
        "id": "ZqAzzBEX_WvM",
        "outputId": "77178ab8-9965-433b-ab19-4653a0a236d3"
      },
      "execution_count": 25,
      "outputs": [
        {
          "output_type": "stream",
          "name": "stdout",
          "text": [
            "    Rank                      Name                    Industry  \\\n",
            "0      1                   Walmart                      Retail   \n",
            "1      2                    Amazon  Retail and Cloud Computing   \n",
            "2      3               Exxon Mobil          Petroleum industry   \n",
            "3      4                     Apple        Electronics industry   \n",
            "4      5        UnitedHealth Group                  Healthcare   \n",
            "..   ...                       ...                         ...   \n",
            "95    96                  Best Buy                      Retail   \n",
            "96    97       BristolMyers Squibb     Pharmaceutical industry   \n",
            "97    98           United Airlines                     Airline   \n",
            "98    99  Thermo Fisher Scientific      Laboratory instruments   \n",
            "99   100                  Qualcomm                  Technology   \n",
            "\n",
            "    Revenue (USD millions)  Revenue growth  Employees             Headquarters  \n",
            "0                   611289           0.067    2100000    Bentonville, Arkansas  \n",
            "1                   513983           0.094    1540000      Seattle, Washington  \n",
            "2                   413680           0.448      62000            Spring, Texas  \n",
            "3                   394328           0.078     164000    Cupertino, California  \n",
            "4                   324162           0.127     400000    Minnetonka, Minnesota  \n",
            "..                     ...             ...        ...                      ...  \n",
            "95                   46298           0.106      71100     Richfield, Minnesota  \n",
            "96                   46159           0.005      34300  New York City, New York  \n",
            "97                   44955           0.825      92795        Chicago, Illinois  \n",
            "98                   44915           0.145     130000   Waltham, Massachusetts  \n",
            "99                   44200           0.317      51000    San Diego, California  \n",
            "\n",
            "[100 rows x 7 columns]\n"
          ]
        }
      ]
    },
    {
      "cell_type": "code",
      "source": [
        "#Calculating the correlation between 'Employees' and 'Revenue Growth Percentage (RGP)'\n",
        "correlation_coefficient = df['Employees'].corr(df['Revenue growth'])\n",
        "\n",
        "print(f\"Correlation coefficient between number of employees and revenue growth percentages (RGP): {correlation_coefficient:.3f}\")\n",
        "\n",
        "# Interpreting the correlation coefficient\n",
        "if 0.7 <= correlation_coefficient <= 1:\n",
        "    interpretation = \"strong positive correlation\"\n",
        "elif 0.3 < correlation_coefficient < 0.7:\n",
        "    interpretation = \"moderate positive correlation\"\n",
        "elif 0 < correlation_coefficient <= 0.3:\n",
        "    interpretation = \"weak positive correlation\"\n",
        "elif -0.3 < correlation_coefficient <= 0:\n",
        "    interpretation = \"weak negative correlation\"\n",
        "elif -0.7 < correlation_coefficient <= -0.3:\n",
        "    interpretation = \"moderate negative correlation\"\n",
        "else:\n",
        "    interpretation = \"strong negative correlation\"\n",
        "\n",
        "print(f\"There's a {interpretation} between the number of employees and revenue growth percentage.\")\n",
        "print(\"\\n\")\n",
        "print(\"This suggests that there may be a weak inverse relationship in that companies with more employees may experience a lower RGP and vice versa.\")"
      ],
      "metadata": {
        "colab": {
          "base_uri": "https://localhost:8080/",
          "height": 0
        },
        "id": "M9lQQTZi_brH",
        "outputId": "6e7dcaa9-3757-4b6f-e322-2daf8781ecbd"
      },
      "execution_count": 9,
      "outputs": [
        {
          "output_type": "stream",
          "name": "stdout",
          "text": [
            "Correlation coefficient between number of employees and revenue growth percentages (RGP): -0.230\n",
            "There's a weak negative correlation between the number of employees and revenue growth percentage.\n",
            "\n",
            "\n",
            "This suggests that there may be a weak inverse relationship in that companies with more employees may experience a lower RGP and vice versa.\n"
          ]
        }
      ]
    },
    {
      "cell_type": "code",
      "source": [
        "#Performing simple linear regression (OLS) analysis to understand the impact of the number of employees on RGP\n",
        "X = df['Employees']\n",
        "y = df['Revenue growth']\n",
        "\n",
        "\n",
        "X = sm.add_constant(X)\n",
        "model = sm.OLS(y, X).fit()\n",
        "predictions = model.predict(X)\n",
        "print(model.summary())"
      ],
      "metadata": {
        "colab": {
          "base_uri": "https://localhost:8080/",
          "height": 0
        },
        "id": "WsPDoRoOE31C",
        "outputId": "d4f1b7ef-7654-46e2-8825-7ad0b2ea7733"
      },
      "execution_count": 10,
      "outputs": [
        {
          "output_type": "stream",
          "name": "stdout",
          "text": [
            "                            OLS Regression Results                            \n",
            "==============================================================================\n",
            "Dep. Variable:         Revenue growth   R-squared:                       0.053\n",
            "Model:                            OLS   Adj. R-squared:                  0.043\n",
            "Method:                 Least Squares   F-statistic:                     5.478\n",
            "Date:                Sun, 27 Aug 2023   Prob (F-statistic):             0.0213\n",
            "Time:                        23:15:28   Log-Likelihood:                 15.210\n",
            "No. Observations:                 100   AIC:                            -26.42\n",
            "Df Residuals:                      98   BIC:                            -21.21\n",
            "Df Model:                           1                                         \n",
            "Covariance Type:            nonrobust                                         \n",
            "==============================================================================\n",
            "                 coef    std err          t      P>|t|      [0.025      0.975]\n",
            "------------------------------------------------------------------------------\n",
            "const          0.2263      0.025      9.155      0.000       0.177       0.275\n",
            "Employees  -1.817e-07   7.76e-08     -2.340      0.021   -3.36e-07   -2.76e-08\n",
            "==============================================================================\n",
            "Omnibus:                       36.930   Durbin-Watson:                   2.083\n",
            "Prob(Omnibus):                  0.000   Jarque-Bera (JB):               63.683\n",
            "Skew:                           1.622   Prob(JB):                     1.48e-14\n",
            "Kurtosis:                       5.181   Cond. No.                     3.75e+05\n",
            "==============================================================================\n",
            "\n",
            "Notes:\n",
            "[1] Standard Errors assume that the covariance matrix of the errors is correctly specified.\n",
            "[2] The condition number is large, 3.75e+05. This might indicate that there are\n",
            "strong multicollinearity or other numerical problems.\n"
          ]
        }
      ]
    },
    {
      "cell_type": "code",
      "source": [
        "#Plotting the scatter plot with regression line\n",
        "plt.scatter(df['Employees'], df['Revenue growth'], color='blue', label='Data points')\n",
        "plt.plot(df['Employees'], predictions, color='red', label='Regression Line')\n",
        "plt.xlabel('Number of Employees (millions)')\n",
        "plt.ylabel('Revenue Growth')\n",
        "plt.title('Relationship between Number of Employees and Revenue Growth')\n",
        "plt.legend()\n",
        "plt.show()"
      ],
      "metadata": {
        "colab": {
          "base_uri": "https://localhost:8080/",
          "height": 472
        },
        "id": "AJarjG3UN7f5",
        "outputId": "5e8ceb60-9413-4338-9898-a71b0f40f6d0"
      },
      "execution_count": null,
      "outputs": [
        {
          "output_type": "display_data",
          "data": {
            "text/plain": [
              "<Figure size 640x480 with 1 Axes>"
            ],
            "image/png": "[encoded data removed]"
          },
          "metadata": {}
        }
      ]
    },
    {
      "cell_type": "code",
      "source": [
        "#Performing Polynomial Regression to Capture non-linear relationship\n",
        "df['Employees_squared'] = df['Employees'] ** 2\n",
        "\n",
        "x_poly = df[['Employees', 'Employees_squared']]\n",
        "x_poly = sm.add_constant(x_poly)\n",
        "\n",
        "model2 = sm.OLS(y, x_poly).fit()\n",
        "print(\"\\nPolynomial Regression:\\n\", model2.summary())\n"
      ],
      "metadata": {
        "colab": {
          "base_uri": "https://localhost:8080/"
        },
        "id": "iX17hvvZN3_0",
        "outputId": "c64c091a-7f4a-4792-b514-30729aa6b8a2"
      },
      "execution_count": null,
      "outputs": [
        {
          "output_type": "stream",
          "name": "stdout",
          "text": [
            "\n",
            "Polynomial Regression:\n",
            "                             OLS Regression Results                            \n",
            "==============================================================================\n",
            "Dep. Variable:         Revenue growth   R-squared:                       0.128\n",
            "Model:                            OLS   Adj. R-squared:                  0.110\n",
            "Method:                 Least Squares   F-statistic:                     7.144\n",
            "Date:                Sun, 27 Aug 2023   Prob (F-statistic):            0.00128\n",
            "Time:                        18:21:20   Log-Likelihood:                 19.361\n",
            "No. Observations:                 100   AIC:                            -32.72\n",
            "Df Residuals:                      97   BIC:                            -24.91\n",
            "Df Model:                           2                                         \n",
            "Covariance Type:            nonrobust                                         \n",
            "=====================================================================================\n",
            "                        coef    std err          t      P>|t|      [0.025      0.975]\n",
            "-------------------------------------------------------------------------------------\n",
            "const                 0.2829      0.031      9.179      0.000       0.222       0.344\n",
            "Employees         -7.053e-07   1.96e-07     -3.606      0.000   -1.09e-06   -3.17e-07\n",
            "Employees_squared  3.095e-13   1.07e-13      2.898      0.005    9.75e-14    5.21e-13\n",
            "==============================================================================\n",
            "Omnibus:                       30.989   Durbin-Watson:                   2.247\n",
            "Prob(Omnibus):                  0.000   Jarque-Bera (JB):               48.228\n",
            "Skew:                           1.414   Prob(JB):                     3.37e-11\n",
            "Kurtosis:                       4.890   Cond. No.                     7.70e+11\n",
            "==============================================================================\n",
            "\n",
            "Notes:\n",
            "[1] Standard Errors assume that the covariance matrix of the errors is correctly specified.\n",
            "[2] The condition number is large, 7.7e+11. This might indicate that there are\n",
            "strong multicollinearity or other numerical problems.\n"
          ]
        }
      ]
    },
    {
      "cell_type": "code",
      "source": [
        "#Log-Transformed Regression\n",
        "df['log_Employees'] = np.log(df['Employees'])\n",
        "\n",
        "X_log = df['log_Employees']\n",
        "X_log = sm.add_constant(X_log)\n",
        "\n",
        "model3 = sm.OLS(y, X_log).fit()\n",
        "print(\"\\nLog-transformed Regression:\\n\", model3.summary())\n"
      ],
      "metadata": {
        "colab": {
          "base_uri": "https://localhost:8080/"
        },
        "id": "QInxK970OxD1",
        "outputId": "b4aa9c51-fcec-4150-d646-696ff014c35d"
      },
      "execution_count": null,
      "outputs": [
        {
          "output_type": "stream",
          "name": "stdout",
          "text": [
            "\n",
            "Log-transformed Regression:\n",
            "                             OLS Regression Results                            \n",
            "==============================================================================\n",
            "Dep. Variable:         Revenue growth   R-squared:                       0.240\n",
            "Model:                            OLS   Adj. R-squared:                  0.232\n",
            "Method:                 Least Squares   F-statistic:                     30.86\n",
            "Date:                Sun, 27 Aug 2023   Prob (F-statistic):           2.38e-07\n",
            "Time:                        18:23:21   Log-Likelihood:                 26.180\n",
            "No. Observations:                 100   AIC:                            -48.36\n",
            "Df Residuals:                      98   BIC:                            -43.15\n",
            "Df Model:                           1                                         \n",
            "Covariance Type:            nonrobust                                         \n",
            "=================================================================================\n",
            "                    coef    std err          t      P>|t|      [0.025      0.975]\n",
            "---------------------------------------------------------------------------------\n",
            "const             1.1289      0.169      6.679      0.000       0.793       1.464\n",
            "log_Employees    -0.0824      0.015     -5.555      0.000      -0.112      -0.053\n",
            "==============================================================================\n",
            "Omnibus:                       34.323   Durbin-Watson:                   2.258\n",
            "Prob(Omnibus):                  0.000   Jarque-Bera (JB):               59.977\n",
            "Skew:                           1.464   Prob(JB):                     9.46e-14\n",
            "Kurtosis:                       5.412   Cond. No.                         103.\n",
            "==============================================================================\n",
            "\n",
            "Notes:\n",
            "[1] Standard Errors assume that the covariance matrix of the errors is correctly specified.\n"
          ]
        }
      ]
    },
    {
      "cell_type": "code",
      "source": [
        "#Adding Categorical variables 'Industry' and 'Headquarters (as State)' to Regression for a Richer model\n",
        "df['State'] = df['Headquarters'].str.split(', ').str[-1]\n",
        "\n",
        "#One-hot encoding for 'Industry' and 'State'\n",
        "industry_dummies = pd.get_dummies(df['Industry'], drop_first=True, prefix='Industry')\n",
        "state_dummies = pd.get_dummies(df['State'], drop_first=True, prefix='State')\n",
        "\n",
        "df_encoded = pd.concat([df, industry_dummies, state_dummies], axis=1)\n",
        "X = df_encoded[['Employees'] + list(industry_dummies.columns) + list(state_dummies.columns)]\n",
        "X = sm.add_constant(X)\n",
        "y = df['Revenue growth']\n",
        "\n",
        "model = sm.OLS(y, X).fit()\n",
        "print(model.summary())\n"
      ],
      "metadata": {
        "id": "JoFOMbCyQdVg",
        "colab": {
          "base_uri": "https://localhost:8080/",
          "height": 0
        },
        "outputId": "71d6d85a-68a6-4259-80eb-87da8ff6b0e5"
      },
      "execution_count": 6,
      "outputs": [
        {
          "output_type": "stream",
          "name": "stdout",
          "text": [
            "                            OLS Regression Results                            \n",
            "==============================================================================\n",
            "Dep. Variable:         Revenue growth   R-squared:                       0.863\n",
            "Model:                            OLS   Adj. R-squared:                  0.644\n",
            "Method:                 Least Squares   F-statistic:                     3.932\n",
            "Date:                Sun, 27 Aug 2023   Prob (F-statistic):           9.59e-06\n",
            "Time:                        22:39:13   Log-Likelihood:                 111.96\n",
            "No. Observations:                 100   AIC:                            -99.92\n",
            "Df Residuals:                      38   BIC:                             61.60\n",
            "Df Model:                          61                                         \n",
            "Covariance Type:            nonrobust                                         \n",
            "=============================================================================================================\n",
            "                                                coef    std err          t      P>|t|      [0.025      0.975]\n",
            "-------------------------------------------------------------------------------------------------------------\n",
            "const                                        -0.1242      0.189     -0.658      0.515      -0.506       0.258\n",
            "Employees                                  1.376e-07   1.21e-07      1.138      0.262   -1.07e-07    3.82e-07\n",
            "Industry_Aerospace and defense               -0.1811      0.140     -1.293      0.204      -0.465       0.102\n",
            "Industry_Agriculture cooperative              0.0789      0.155      0.510      0.613      -0.234       0.392\n",
            "Industry_Agriculture manufacturing           -0.0460      0.140     -0.329      0.744      -0.329       0.237\n",
            "Industry_Airline                              0.5251      0.084      6.230      0.000       0.354       0.696\n",
            "Industry_Apparel                              0.0811      0.110      0.735      0.467      -0.142       0.305\n",
            "Industry_Automotive                           0.1481      0.114      1.304      0.200      -0.082       0.378\n",
            "Industry_Automotive and Energy                0.3030      0.139      2.175      0.036       0.021       0.585\n",
            "Industry_Automotive industry                  0.0722      0.113      0.637      0.528      -0.157       0.302\n",
            "Industry_Beverage                            -0.2248      0.138     -1.633      0.111      -0.503       0.054\n",
            "Industry_Chemical industry                   -0.0332      0.119     -0.279      0.781      -0.273       0.207\n",
            "Industry_Conglomerate                        -0.1111      0.087     -1.277      0.209      -0.287       0.065\n",
            "Industry_Consumer products Manufacturing     -0.0817      0.142     -0.575      0.569      -0.369       0.206\n",
            "Industry_Electronics industry                -0.1411      0.143     -0.989      0.329      -0.430       0.148\n",
            "Industry_Financial                           -0.0218      0.098     -0.222      0.826      -0.220       0.177\n",
            "Industry_Financial services                  -0.0918      0.137     -0.670      0.507      -0.369       0.186\n",
            "Industry_Financials                          -0.0931      0.053     -1.764      0.086      -0.200       0.014\n",
            "Industry_Food Processing                      0.2793      0.144      1.938      0.060      -0.012       0.571\n",
            "Industry_Food Service                         0.1349      0.139      0.970      0.338      -0.147       0.416\n",
            "Industry_Food industry                       -0.0890      0.100     -0.894      0.377      -0.290       0.113\n",
            "Industry_Health                              -0.1521      0.139     -1.093      0.281      -0.434       0.130\n",
            "Industry_Health Insurance                    -0.2702      0.208     -1.302      0.201      -0.690       0.150\n",
            "Industry_Healthcare                          -0.0708      0.102     -0.696      0.490      -0.277       0.135\n",
            "Industry_Infotech                             0.7260      0.184      3.942      0.000       0.353       1.099\n",
            "Industry_Insurance                           -0.1432      0.066     -2.172      0.036      -0.277      -0.010\n",
            "Industry_Laboratory instruments              -0.0115      0.150     -0.077      0.939      -0.315       0.292\n",
            "Industry_Logistics                           -0.3482      0.197     -1.770      0.085      -0.747       0.050\n",
            "Industry_Machinery                           -0.0777      0.140     -0.555      0.582      -0.361       0.205\n",
            "Industry_Media                                0.0035      0.143      0.025      0.980      -0.286       0.293\n",
            "Industry_Petroleum industry                   0.2898      0.062      4.639      0.000       0.163       0.416\n",
            "Industry_Petroleum industry and Logistics     0.6412      0.184      3.487      0.001       0.269       1.013\n",
            "Industry_Pharmaceutical industry             -0.1865      0.067     -2.800      0.008      -0.321      -0.052\n",
            "Industry_Retail                              -0.1404      0.073     -1.915      0.063      -0.289       0.008\n",
            "Industry_Retail and Cloud Computing          -0.3732      0.241     -1.548      0.130      -0.861       0.115\n",
            "Industry_Technology                          -0.1043      0.067     -1.558      0.128      -0.240       0.031\n",
            "Industry_Telecom Hardware Manufacturing      -0.1730      0.142     -1.218      0.231      -0.460       0.114\n",
            "Industry_Telecommunications                  -0.2665      0.110     -2.419      0.020      -0.490      -0.043\n",
            "Industry_Transportation                      -0.0993      0.136     -0.731      0.469      -0.375       0.176\n",
            "State_California                              0.3207      0.204      1.572      0.124      -0.092       0.734\n",
            "State_Connecticut                             0.4217      0.261      1.618      0.114      -0.106       0.949\n",
            "State_D.C.                                    0.4131      0.239      1.728      0.092      -0.071       0.897\n",
            "State_Florida                                 0.3663      0.241      1.523      0.136      -0.121       0.853\n",
            "State_Georgia                                 0.2392      0.207      1.157      0.254      -0.179       0.658\n",
            "State_Idaho                                   0.3173      0.244      1.299      0.202      -0.177       0.812\n",
            "State_Illinois                                0.3528      0.200      1.768      0.085      -0.051       0.757\n",
            "State_Indiana                                 0.3109      0.257      1.208      0.235      -0.210       0.832\n",
            "State_Kentucky                                0.5031      0.318      1.584      0.121      -0.140       1.146\n",
            "State_Maryland                                0.1242      0.217      0.573      0.570      -0.315       0.563\n",
            "State_Massachusetts                           0.2628      0.202      1.302      0.201      -0.146       0.672\n",
            "State_Michigan                                0.1871      0.143      1.309      0.199      -0.102       0.477\n",
            "State_Minnesota                               0.2869      0.208      1.382      0.175      -0.133       0.707\n",
            "State_Missouri                                0.3317      0.260      1.278      0.209      -0.194       0.857\n",
            "State_Nebraska                                0.2765      0.220      1.258      0.216      -0.168       0.722\n",
            "State_New Jersey                              0.4194      0.206      2.038      0.049       0.003       0.836\n",
            "State_New York                                0.3926      0.196      1.999      0.053      -0.005       0.790\n",
            "State_North Carolina                          0.3262      0.209      1.564      0.126      -0.096       0.748\n",
            "State_Ohio                                    0.2443      0.203      1.205      0.236      -0.166       0.655\n",
            "State_Oregon                                  0.0811      0.110      0.735      0.467      -0.142       0.305\n",
            "State_Pennsylvania                            0.4140      0.225      1.839      0.074      -0.042       0.870\n",
            "State_Rhode Island                            0.2633      0.245      1.073      0.290      -0.234       0.760\n",
            "State_Tennessee                               0.2259      0.223      1.011      0.319      -0.227       0.678\n",
            "State_Texas                                   0.3176      0.199      1.593      0.120      -0.086       0.721\n",
            "State_Virginia                                0.4135      0.175      2.358      0.024       0.059       0.768\n",
            "State_Washington                              0.3794      0.211      1.798      0.080      -0.048       0.807\n",
            "==============================================================================\n",
            "Omnibus:                       38.110   Durbin-Watson:                   2.035\n",
            "Prob(Omnibus):                  0.000   Jarque-Bera (JB):              125.406\n",
            "Skew:                           1.251   Prob(JB):                     5.87e-28\n",
            "Kurtosis:                       7.883   Cond. No.                     1.26e+22\n",
            "==============================================================================\n",
            "\n",
            "Notes:\n",
            "[1] Standard Errors assume that the covariance matrix of the errors is correctly specified.\n",
            "[2] The smallest eigenvalue is 6.39e-32. This might indicate that there are\n",
            "strong multicollinearity problems or that the design matrix is singular.\n"
          ]
        }
      ]
    },
    {
      "cell_type": "markdown",
      "source": [
        "#Potential Issues\n",
        "This multivariable regression can result in Multicollinearity where two or more variables are highly correlated. It is important to note that adding irrelevant variables to a regression model often causes the coefficient estimates to become less precise, therefore losing precision in the overall model."
      ],
      "metadata": {
        "id": "kbSL5kFRhYLR"
      }
    },
    {
      "cell_type": "markdown",
      "source": [
        "# ***Fun Statistics on 2023 Fortune 500 Company Data***"
      ],
      "metadata": {
        "id": "C4Oo-qlDfUWA"
      }
    },
    {
      "cell_type": "code",
      "source": [
        "#Which industries are most represented in the top 20 companies by revenue?\n",
        "industry_counts = df['Industry'].value_counts()\n",
        "print(\"Industries most represented in top 20: \")\n",
        "print(industry_counts)\n",
        "print('\\n')\n",
        "\n",
        "#Which companies have the highest and lowest revenue growth?\n",
        "max_growth_company = df.loc[df['Revenue growth'].idxmax()]['Name']\n",
        "min_growth_company = df.loc[df['Revenue growth'].idxmin()]['Name']\n",
        "max_growth_value = df.loc[df['Revenue growth'].idxmax()]['Revenue growth']\n",
        "min_growth_value = df.loc[df['Revenue growth'].idxmin()]['Revenue growth']\n",
        "\n",
        "print(f\"\\nCompany with highest revenue growth: {max_growth_company} with a growth rate of {max_growth_value * 100:.2f}%\")\n",
        "print(f\"Company with lowest revenue growth: {min_growth_company} with a growth rate of {min_growth_value * 100:.2f}%\")\n",
        "\n",
        "#Which companies have the highest and lowest employee counts?\n",
        "\n",
        "max_employees_row = df.loc[df['Employees'].idxmax()]\n",
        "min_employees_row = df.loc[df['Employees'].idxmin()]\n",
        "max_employees_company = max_employees_row['Name']\n",
        "max_employees_count = max_employees_row['Employees']\n",
        "min_employees_company = min_employees_row['Name']\n",
        "min_employees_count = min_employees_row['Employees']\n",
        "\n",
        "print('\\n')\n",
        "print(f\"Company with most employees: {max_employees_company} with {max_employees_count:,} employees\")\n",
        "print(f\"Company with least employees: {min_employees_company} with {min_employees_count:,} employees\")\n",
        "\n",
        "\n",
        "#What is the average revenue and revenue growth for companies headquartered in different states?\n",
        "df['State'] = df['Headquarters'].str.split(', ').str[1]\n",
        "average_revenue_by_state = df.groupby('State')['Revenue (USD millions)'].mean()\n",
        "average_growth_by_state = df.groupby('State')['Revenue growth'].mean()\n",
        "\n",
        "print(\"\\nAverage revenue by state:\")\n",
        "print(average_revenue_by_state)\n",
        "print(\"\\nAverage revenue growth by state:\")\n",
        "print(average_growth_by_state)\n"
      ],
      "metadata": {
        "colab": {
          "base_uri": "https://localhost:8080/",
          "height": 0
        },
        "id": "OtoXmG-SesqV",
        "outputId": "0beb905f-2c9b-46d6-975d-88675342a9b9"
      },
      "execution_count": 23,
      "outputs": [
        {
          "output_type": "stream",
          "name": "stdout",
          "text": [
            "Industries most represented in top 20: \n",
            "Financials                          11\n",
            "Retail                              10\n",
            "Petroleum industry                  10\n",
            "Technology                           8\n",
            "Pharmaceutical industry              7\n",
            "Healthcare                           6\n",
            "Insurance                            5\n",
            "Conglomerate                         4\n",
            "Telecommunications                   3\n",
            "Airline                              3\n",
            "Transportation                       2\n",
            "Food industry                        2\n",
            "Health Insurance                     2\n",
            "Financial                            2\n",
            "Food Processing                      2\n",
            "Chemical industry                    1\n",
            "Petroleum industry and Logistics     1\n",
            "Machinery                            1\n",
            "Agriculture manufacturing            1\n",
            "Aerospace and Defense                1\n",
            "Telecom Hardware Manufacturing       1\n",
            "Agriculture cooperative              1\n",
            "Apparel                              1\n",
            "Infotech                             1\n",
            "Automotive and Energy                1\n",
            "Aerospace and defense                1\n",
            "Food Service                         1\n",
            "Logistics                            1\n",
            "Consumer products Manufacturing      1\n",
            "Retail and Cloud Computing           1\n",
            "Media                                1\n",
            "Beverage                             1\n",
            "Financial services                   1\n",
            "Automotive                           1\n",
            "Automotive industry                  1\n",
            "Health                               1\n",
            "Electronics industry                 1\n",
            "Laboratory instruments               1\n",
            "Name: Industry, dtype: int64\n",
            "\n",
            "\n",
            "\n",
            "Company with highest revenue growth: TD Synnex with a growth rate of 97.20%\n",
            "Company with lowest revenue growth: Wells Fargo with a growth rate of 0.50%\n",
            "\n",
            "\n",
            "Company with most employees: Walmart with 2,100,000 employees\n",
            "Company with least employees: StoneX Group with 3,605 employees\n",
            "\n",
            "Average revenue by state:\n",
            "State\n",
            "Arkansas          332285.500000\n",
            "California        142740.000000\n",
            "Connecticut       117269.000000\n",
            "Cook County        51412.000000\n",
            "D.C.              100108.000000\n",
            "Florida            58776.333333\n",
            "Georgia           102774.333333\n",
            "Idaho              77650.000000\n",
            "Illinois           75651.000000\n",
            "Indiana           156595.000000\n",
            "Kentucky           92870.000000\n",
            "Maryland           65984.000000\n",
            "Massachusetts      55340.500000\n",
            "Michigan          123898.000000\n",
            "Minnesota         131693.500000\n",
            "Missouri          144547.000000\n",
            "Nebraska          302089.000000\n",
            "New Jersey         65276.500000\n",
            "New York           79660.200000\n",
            "North Carolina    106056.000000\n",
            "Ohio              115147.000000\n",
            "Oregon             46710.000000\n",
            "Pennsylvania      180007.000000\n",
            "Rhode Island      322467.000000\n",
            "Tennessee          76872.500000\n",
            "Texas             134381.000000\n",
            "Virginia           66995.000000\n",
            "Washington        313069.000000\n",
            "Name: Revenue (USD millions), dtype: float64\n",
            "\n",
            "Average revenue growth by state:\n",
            "State\n",
            "Arkansas          0.099500\n",
            "California        0.149600\n",
            "Connecticut       0.041000\n",
            "Cook County       0.034000\n",
            "D.C.              0.108500\n",
            "Florida           0.663667\n",
            "Georgia           0.254667\n",
            "Idaho             0.080000\n",
            "Illinois          0.208875\n",
            "Indiana           0.130000\n",
            "Kentucky          0.118000\n",
            "Maryland          0.016000\n",
            "Massachusetts     0.060500\n",
            "Michigan          0.142667\n",
            "Minnesota         0.126250\n",
            "Missouri          0.147000\n",
            "Nebraska          0.094000\n",
            "New Jersey        0.260250\n",
            "New York          0.155867\n",
            "North Carolina    0.117000\n",
            "Ohio              0.107667\n",
            "Oregon            0.049000\n",
            "Pennsylvania      0.079000\n",
            "Rhode Island      0.104000\n",
            "Tennessee         0.069500\n",
            "Texas             0.403615\n",
            "Virginia          0.324667\n",
            "Washington        0.144000\n",
            "Name: Revenue growth, dtype: float64\n"
          ]
        }
      ]
    }
  ],
  "metadata": {
    "colab": {
      "provenance": []
    },
    "kernelspec": {
      "display_name": "Python 3",
      "name": "python3"
    },
    "language_info": {
      "name": "python"
    }
  },
  "nbformat": 4,
  "nbformat_minor": 0
}